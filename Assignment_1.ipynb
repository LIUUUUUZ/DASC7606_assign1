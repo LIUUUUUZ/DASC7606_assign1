{
 "cells": [
  {
   "cell_type": "markdown",
   "metadata": {},
   "source": [
    "Assignmnet 1: Image Classification with Neural Networks\n",
    "=====================\n",
    "\n",
    "Data in Deep Learning\n",
    "----------------\n",
    "\n",
    "Generally, when you have to deal with image, text, audio or video data,\n",
    "you can use standard python packages that load data into a numpy array.\n",
    "Then you can convert this array into a ``torch.*Tensor``.\n",
    "\n",
    "-  For images, packages such as Pillow, OpenCV are useful\n",
    "-  For audio, packages such as scipy and librosa\n",
    "-  For text, either raw Python or Cython based loading, or NLTK and\n",
    "   SpaCy are useful\n",
    "\n",
    "Specifically for vision, we have created a package called\n",
    "``torchvision``, that has data loaders for common datasets such as\n",
    "ImageNet, CIFAR10, MNIST, etc. and data transformers for images, viz.,\n",
    "``torchvision.datasets`` and ``torch.utils.data.DataLoader``.\n",
    "\n",
    "This provides a huge convenience and avoids writing boilerplate code.\n",
    "\n",
    "For this assignment, we will use the CIFAR10 dataset.\n",
    "\n",
    "It has the classes: \n",
    "\n",
    "‘airplane’, ‘automobile’, ‘bird’, ‘cat’, ‘deer’,\n",
    "‘dog’, ‘frog’, ‘horse’, ‘ship’, ‘truck’. \n",
    "\n",
    "The images in CIFAR-10 are of size 3x32x32, i.e. 3-channel color images of 32x32 pixels in size.\n",
    "\n",
    "\n",
    "Training an image classifier\n",
    "----------------------------\n",
    "\n",
    "We will do the following steps in order:\n",
    "\n",
    "1. Load and normalize the CIFAR10 training and test datasets using\n",
    "   ``torchvision``\n",
    "2. Define a Convolutional Neural Network\n",
    "3. Define a loss function\n",
    "4. Train the network on the training data\n",
    "5. Test the network on the test data\n",
    "\n",
    "1. Load and normalize CIFAR10\n",
    "\n",
    "\n",
    "Using ``torchvision``, it’s extremely easy to load CIFAR10.\n",
    "\n"
   ]
  },
  {
   "cell_type": "code",
   "execution_count": 1,
   "metadata": {},
   "outputs": [],
   "source": [
    "import torch\n",
    "import torchvision\n",
    "import torchvision.transforms as transforms"
   ]
  },
  {
   "cell_type": "markdown",
   "metadata": {},
   "source": [
    "## Define the dataset and dataloader\n",
    "\n",
    "The output of torchvision datasets are PILImage images of range [0, 1].\n",
    "We transform them to Tensors of normalized range [-1, 1].\n",
    "\n"
   ]
  },
  {
   "cell_type": "code",
   "execution_count": 2,
   "metadata": {},
   "outputs": [
    {
     "name": "stdout",
     "output_type": "stream",
     "text": [
      "Files already downloaded and verified\n",
      "Files already downloaded and verified\n",
      "Files already downloaded and verified\n",
      "Files already downloaded and verified\n"
     ]
    }
   ],
   "source": [
    "transform = transforms.Compose(\n",
    "    [transforms.ToTensor(),\n",
    "     transforms.Normalize((0.5, 0.5, 0.5), (0.5, 0.5, 0.5))])\n",
    "\n",
    "batch_size = 64\n",
    "\n",
    "def get_vis_loader():\n",
    "    transform = transforms.Compose(\n",
    "    [transforms.ToTensor(),\n",
    "     transforms.Normalize((0.5, 0.5, 0.5), (0.5, 0.5, 0.5))])\n",
    "\n",
    "    trainset = torchvision.datasets.CIFAR10(root='./data', train=True,\n",
    "                                            download=True, transform=transform)\n",
    "    trainloader = torch.utils.data.DataLoader(trainset, batch_size=4,\n",
    "                                              shuffle=True, num_workers=2)\n",
    "    testset = torchvision.datasets.CIFAR10(root='./data', train=False,\n",
    "                                           download=True, transform=transform)\n",
    "    testloader = torch.utils.data.DataLoader(testset, batch_size=4,\n",
    "                                             shuffle=False, num_workers=2)\n",
    "    return trainloader, testloader\n",
    "\n",
    "def get_train_loader(batch_size, transform):\n",
    "    trainset = torchvision.datasets.CIFAR10(root='./data', train=True,\n",
    "                                            download=True, transform=transform)\n",
    "    trainloader = torch.utils.data.DataLoader(trainset, batch_size=batch_size,\n",
    "                                              shuffle=True, num_workers=2)\n",
    "    return trainloader\n",
    "    \n",
    "def get_test_loader(batch_size, transform):\n",
    "    testset = torchvision.datasets.CIFAR10(root='./data', train=False,\n",
    "                                           download=True, transform=transform)\n",
    "    testloader = torch.utils.data.DataLoader(testset, batch_size=batch_size,\n",
    "                                             shuffle=False, num_workers=2)\n",
    "    return testloader\n",
    "    \n",
    "classes = ('plane', 'car', 'bird', 'cat',\n",
    "           'deer', 'dog', 'frog', 'horse', 'ship', 'truck')\n",
    "\n",
    "vistrainloader, vistestloader = get_vis_loader()\n",
    "trainloader = get_train_loader(batch_size, transform)\n",
    "testloader = get_test_loader(batch_size, transform)"
   ]
  },
  {
   "cell_type": "markdown",
   "metadata": {},
   "source": [
    "## Visualization\n",
    "\n",
    "Let us show some of the training images, for fun.\n",
    "\n"
   ]
  },
  {
   "cell_type": "code",
   "execution_count": 19,
   "metadata": {},
   "outputs": [
    {
     "data": {
      "image/png": "[encoded data removed]",
      "text/plain": [
       "<Figure size 640x480 with 1 Axes>"
      ]
     },
     "metadata": {},
     "output_type": "display_data"
    },
    {
     "name": "stdout",
     "output_type": "stream",
     "text": [
      "horse   dog truck  deer\n"
     ]
    }
   ],
   "source": [
    "import matplotlib.pyplot as plt\n",
    "import numpy as np\n",
    "\n",
    "# functions to show an image\n",
    "def imshow(img):\n",
    "    img = img / 2 + 0.5     # unnormalize\n",
    "    npimg = img.numpy()\n",
    "    plt.imshow(np.transpose(npimg, (1, 2, 0)))\n",
    "    plt.show()\n",
    "\n",
    "# get some random training images\n",
    "dataiter = iter(vistrainloader)\n",
    "images, labels = next(dataiter)\n",
    "\n",
    "# show images\n",
    "imshow(torchvision.utils.make_grid(images))\n",
    "# print labels\n",
    "print(' '.join('%5s' % classes[labels[j]] for j in range(4)))"
   ]
  },
  {
   "cell_type": "markdown",
   "metadata": {},
   "source": [
    "## Define a Neural Network"
   ]
  },
  {
   "cell_type": "code",
   "execution_count": 16,
   "metadata": {},
   "outputs": [],
   "source": [
    "import torch.nn as nn\n",
    "import torch.nn.functional as F\n",
    "\n",
    "class NeuralNet(nn.Module):\n",
    "    def __init__(self):\n",
    "        super().__init__()\n",
    "        self.fc1 = nn.Linear(3*32*32, 128)\n",
    "        self.fc2 = nn.Linear(128, 256)\n",
    "        self.fc3 = nn.Linear(256, 512)\n",
    "        self.fc4 = nn.Linear(512, 10)\n",
    "\n",
    "    def forward(self, x):\n",
    "        x = torch.flatten(x, 1) # flatten all dimensions except batch\n",
    "        x = F.relu(self.fc1(x))\n",
    "        x = F.relu(self.fc2(x))\n",
    "        x = F.relu(self.fc3(x))\n",
    "        x = self.fc4(x)\n",
    "        return x\n",
    "\n",
    "fc_net = NeuralNet()"
   ]
  },
  {
   "cell_type": "markdown",
   "metadata": {},
   "source": [
    "## Define a Loss function and optimizer\n",
    "\n",
    "Let's use a Classification Cross-Entropy loss and SGD with momentum.\n",
    "\n"
   ]
  },
  {
   "cell_type": "code",
   "execution_count": 15,
   "metadata": {},
   "outputs": [],
   "source": [
    "import torch.optim as optim\n",
    "\n",
    "def get_optimizer(net, lr):\n",
    "    optimizer = optim.SGD(net.parameters(), lr=lr, momentum=0.9)\n",
    "    return optimizer\n",
    "\n",
    "def accuracy(output, target):\n",
    "    # get the index of the max log-probability\n",
    "    pred = output.max(1, keepdim=True)[1]\n",
    "    return pred.eq(target.view_as(pred)).float().mean()\n",
    "\n",
    "criterion = nn.CrossEntropyLoss()\n",
    "optimizer = get_optimizer(fc_net, 0.01)"
   ]
  },
  {
   "cell_type": "markdown",
   "metadata": {},
   "source": [
    "## Define testing code"
   ]
  },
  {
   "cell_type": "code",
   "execution_count": 17,
   "metadata": {},
   "outputs": [],
   "source": [
    "def test(net, testloader, device = 'cpu'):\n",
    "    correct = 0\n",
    "    total = 0\n",
    "    net.eval()\n",
    "\n",
    "    # (addition) add device to test\n",
    "    net = net.to(device)\n",
    "\n",
    "    # since we're not training, we don't need to calculate the gradients for our outputs\n",
    "    with torch.no_grad():\n",
    "        for data in testloader:\n",
    "            images, labels = data\n",
    "\n",
    "            # (addition) put images and labels to device\n",
    "            images, labels = images.to(device), labels.to(device)\n",
    "\n",
    "            # calculate outputs by running images through the network\n",
    "            outputs = net(images)\n",
    "            # the class with the highest energy is what we choose as prediction\n",
    "            _, predicted = torch.max(outputs.data, 1)\n",
    "            total += labels.size(0)\n",
    "            correct += (predicted == labels).sum().item()\n",
    "\n",
    "            loss = criterion(outputs, labels).item()\n",
    "\n",
    "    print('Accuracy of the network on the 10000 test images: %d %%' % (\n",
    "        100 * correct / total))\n",
    "    \n",
    "    return (correct / total) , loss"
   ]
  },
  {
   "cell_type": "markdown",
   "metadata": {},
   "source": [
    "## Define training code"
   ]
  },
  {
   "cell_type": "code",
   "execution_count": 18,
   "metadata": {},
   "outputs": [],
   "source": [
    "import tqdm\n",
    "\n",
    "def forward_step(net, inputs, labels):\n",
    "    outputs = net(inputs)\n",
    "    loss = criterion(outputs, labels)\n",
    "    return outputs, loss, labels\n",
    "\n",
    "# (addition) add device parameter\n",
    "def train(net, loader, optimizer, max_epoch, device = 'cpu'):\n",
    "    \n",
    "    # (addition) move model to device\n",
    "    net.to(device)\n",
    "\n",
    "    N = len(loader)\n",
    "    # print_interval = (N // 8 // 100 + 1) * 100\n",
    "\n",
    "    # (addition) add loss_list and acc_list\n",
    "    loss_list: list = []\n",
    "    acc_list: list = []\n",
    "\n",
    "    for epoch in range(max_epoch):  # loop over the dataset multiple times\n",
    "        net.train()\n",
    "        \n",
    "        running_loss = 0.0\n",
    "        running_acc = 0.0\n",
    "        # (addition) add tqdm to see the process\n",
    "        for i, data in enumerate(tqdm.tqdm(loader, desc=f\"Epoch {epoch+1}/{max_epoch}\"), 0):\n",
    "            # get the inputs; data is a list of [inputs, labels]\n",
    "            inputs, labels = data\n",
    "\n",
    "            # (addition) move data to device\n",
    "            inputs, labels = inputs.to(device), labels.to(device)\n",
    "\n",
    "            # zero the parameter gradients\n",
    "            optimizer.zero_grad()\n",
    "\n",
    "            # forward + backward + optimize\n",
    "            outputs, loss, labels = forward_step(net, inputs, labels)\n",
    "            loss.backward()\n",
    "            optimizer.step()\n",
    "\n",
    "            # print statistics\n",
    "            running_loss += loss.item()\n",
    "            running_acc += accuracy(outputs, labels).item()\n",
    "\n",
    "\n",
    "            \n",
    "\n",
    "            # if (i + 1) % print_interval == 0:\n",
    "            #     print('Epoch: [%d / %d], batches: [%d / %d], loss: %.3f, acc: %.2f' %\n",
    "            #           (epoch + 1, max_epoch, i + 1, N, \n",
    "            #            running_loss / print_interval, 100 * running_acc / print_interval))\n",
    "\n",
    "                \n",
    "            #     # (addition) append loss and acc to the list\n",
    "\n",
    "            #     running_loss = 0.0\n",
    "            #     running_acc = 0.0\n",
    "\n",
    "        # (addition) append testing loss and acc\n",
    "        tacc, tloss = test(net, testloader, device)\n",
    "\n",
    "        loss_list.append(tloss)\n",
    "        acc_list.append(tacc)      \n",
    "\n",
    "    print('Finished Training')\n",
    "\n",
    "    # (addition) move model back to cpu\n",
    "    net.to('cpu')\n",
    "\n",
    "    return loss_list, acc_list"
   ]
  },
  {
   "cell_type": "markdown",
   "metadata": {},
   "source": [
    "## Training on GPU?"
   ]
  },
  {
   "cell_type": "code",
   "execution_count": 6,
   "metadata": {},
   "outputs": [
    {
     "name": "stdout",
     "output_type": "stream",
     "text": [
      "Available GPUs: 1\n",
      "Current GPU Device: NVIDIA GeForce RTX 4060 Laptop GPU\n",
      "cuda:0\n"
     ]
    }
   ],
   "source": [
    "# device = torch.device(\"cuda:0\" if torch.cuda.is_available() else \"cpu\")\n",
    "\n",
    "# # Assuming that we are on a CUDA machine, this should print a CUDA device:\n",
    "# print(device)\n",
    "\n",
    "# (addition) choose device\n",
    "if torch.cuda.is_available():\n",
    "    # list all GPUs\n",
    "    print(\"Available GPUs:\", torch.cuda.device_count())\n",
    "    # show the current GPU\n",
    "\n",
    "    print(\"Current GPU Device:\", torch.cuda.get_device_name(0))\n",
    "    # set the device to the first GPU\n",
    "    device = torch.device(\"cuda:0\")\n",
    "    print(device)\n",
    "else:\n",
    "    print(\"No GPU available, using CPU.\")\n",
    "    device = torch.device(\"cpu\")"
   ]
  },
  {
   "cell_type": "markdown",
   "metadata": {},
   "source": [
    "# Plot"
   ]
  },
  {
   "cell_type": "code",
   "execution_count": 25,
   "metadata": {},
   "outputs": [],
   "source": [
    "import seaborn as sns\n",
    "\n",
    "def plot_loss_acc(loss_list, acc_list):\n",
    "\n",
    "    plt.figure(figsize=(10, 5))\n",
    "    sns.lineplot(x=range(len(loss_list)), y=loss_list)\n",
    "    plt.title(f'Testing Loss per epoch')\n",
    "    plt.xlabel('Epoch')\n",
    "    plt.ylabel('Loss')\n",
    "    plt.grid(True)\n",
    "    plt.show()\n",
    "\n",
    "    plt.figure(figsize=(10, 5))\n",
    "    sns.lineplot(x=range(len(acc_list)), y=acc_list)\n",
    "    plt.title(f'Testing Accuracy per epoch')\n",
    "    plt.xlabel('Epoch')\n",
    "    plt.ylabel('Accuracy')\n",
    "    plt.grid(True)\n",
    "    plt.show()"
   ]
  },
  {
   "cell_type": "markdown",
   "metadata": {},
   "source": [
    "The rest of this section assumes that ``device`` is a CUDA device."
   ]
  },
  {
   "cell_type": "markdown",
   "metadata": {},
   "source": [
    "## Train the network\n",
    "\n",
    "This is when things start to get interesting.\n",
    "We simply have to loop over our data iterator, and feed the inputs to the\n",
    "network and optimize.\n",
    "\n"
   ]
  },
  {
   "cell_type": "code",
   "execution_count": 10,
   "metadata": {},
   "outputs": [
    {
     "name": "stderr",
     "output_type": "stream",
     "text": [
      "Epoch 1/10: 100%|██████████| 782/782 [00:06<00:00, 118.23it/s]\n"
     ]
    },
    {
     "name": "stdout",
     "output_type": "stream",
     "text": [
      "Accuracy of the network on the 10000 test images: 44 %\n"
     ]
    },
    {
     "name": "stderr",
     "output_type": "stream",
     "text": [
      "Epoch 2/10: 100%|██████████| 782/782 [00:09<00:00, 80.15it/s] \n"
     ]
    },
    {
     "name": "stdout",
     "output_type": "stream",
     "text": [
      "Accuracy of the network on the 10000 test images: 48 %\n"
     ]
    },
    {
     "name": "stderr",
     "output_type": "stream",
     "text": [
      "Epoch 3/10: 100%|██████████| 782/782 [00:09<00:00, 79.39it/s] \n"
     ]
    },
    {
     "name": "stdout",
     "output_type": "stream",
     "text": [
      "Accuracy of the network on the 10000 test images: 50 %\n"
     ]
    },
    {
     "name": "stderr",
     "output_type": "stream",
     "text": [
      "Epoch 4/10: 100%|██████████| 782/782 [00:09<00:00, 80.39it/s] \n"
     ]
    },
    {
     "name": "stdout",
     "output_type": "stream",
     "text": [
      "Accuracy of the network on the 10000 test images: 52 %\n"
     ]
    },
    {
     "name": "stderr",
     "output_type": "stream",
     "text": [
      "Epoch 5/10: 100%|██████████| 782/782 [00:09<00:00, 79.16it/s] \n"
     ]
    },
    {
     "name": "stdout",
     "output_type": "stream",
     "text": [
      "Accuracy of the network on the 10000 test images: 51 %\n"
     ]
    },
    {
     "name": "stderr",
     "output_type": "stream",
     "text": [
      "Epoch 6/10: 100%|██████████| 782/782 [00:10<00:00, 78.19it/s] \n"
     ]
    },
    {
     "name": "stdout",
     "output_type": "stream",
     "text": [
      "Accuracy of the network on the 10000 test images: 52 %\n"
     ]
    },
    {
     "name": "stderr",
     "output_type": "stream",
     "text": [
      "Epoch 7/10: 100%|██████████| 782/782 [00:09<00:00, 82.27it/s] \n"
     ]
    },
    {
     "name": "stdout",
     "output_type": "stream",
     "text": [
      "Accuracy of the network on the 10000 test images: 53 %\n"
     ]
    },
    {
     "name": "stderr",
     "output_type": "stream",
     "text": [
      "Epoch 8/10: 100%|██████████| 782/782 [00:09<00:00, 80.67it/s] \n"
     ]
    },
    {
     "name": "stdout",
     "output_type": "stream",
     "text": [
      "Accuracy of the network on the 10000 test images: 52 %\n"
     ]
    },
    {
     "name": "stderr",
     "output_type": "stream",
     "text": [
      "Epoch 9/10: 100%|██████████| 782/782 [00:09<00:00, 82.76it/s] \n"
     ]
    },
    {
     "name": "stdout",
     "output_type": "stream",
     "text": [
      "Accuracy of the network on the 10000 test images: 54 %\n"
     ]
    },
    {
     "name": "stderr",
     "output_type": "stream",
     "text": [
      "Epoch 10/10: 100%|██████████| 782/782 [00:09<00:00, 80.54it/s] \n"
     ]
    },
    {
     "name": "stdout",
     "output_type": "stream",
     "text": [
      "Accuracy of the network on the 10000 test images: 53 %\n",
      "Finished Training\n"
     ]
    },
    {
     "data": {
      "image/png": "[encoded data removed]",
      "text/plain": [
       "<Figure size 1000x500 with 1 Axes>"
      ]
     },
     "metadata": {},
     "output_type": "display_data"
    },
    {
     "data": {
      "image/png": "[encoded data removed]",
      "text/plain": [
       "<Figure size 1000x500 with 1 Axes>"
      ]
     },
     "metadata": {},
     "output_type": "display_data"
    }
   ],
   "source": [
    "loss_list, acc_list = train(fc_net, trainloader, optimizer, 10, device)\n",
    "\n",
    "# (addition) plt loss and acc\n",
    "plot_loss_acc(loss_list, acc_list)"
   ]
  },
  {
   "cell_type": "markdown",
   "metadata": {},
   "source": [
    "## Let's quickly save our trained model:\n",
    "\n"
   ]
  },
  {
   "cell_type": "code",
   "execution_count": 9,
   "metadata": {},
   "outputs": [],
   "source": [
    "import os\n",
    "PATH = './checkpoints/cifar_net.pth'\n",
    "if not os.path.exists('./checkpoints'):\n",
    "    os.makedirs('./checkpoints')\n",
    "\n",
    "def save_model(net, path):\n",
    "    torch.save(net.state_dict(), path)\n",
    "    \n",
    "save_model(fc_net, PATH)"
   ]
  },
  {
   "cell_type": "markdown",
   "metadata": {},
   "source": [
    "## Test the network on the test data\n",
    "\n",
    "\n",
    "We have trained the network for 2 passes over the training dataset.\n",
    "But we need to check if the network has learnt anything at all.\n",
    "\n",
    "We will check this by predicting the class label that the neural network\n",
    "outputs, and checking it against the ground-truth. If the prediction is\n",
    "correct, we add the sample to the list of correct predictions.\n",
    "\n",
    "Okay, first step. Let us display an image from the test set to get familiar.\n",
    "\n"
   ]
  },
  {
   "cell_type": "code",
   "execution_count": 12,
   "metadata": {},
   "outputs": [
    {
     "data": {
      "image/png": "[encoded data removed]",
      "text/plain": [
       "<Figure size 640x480 with 1 Axes>"
      ]
     },
     "metadata": {},
     "output_type": "display_data"
    },
    {
     "name": "stdout",
     "output_type": "stream",
     "text": [
      "GroundTruth:    cat  ship  ship plane\n"
     ]
    }
   ],
   "source": [
    "dataiter = iter(vistestloader)\n",
    "images, labels = next(dataiter)\n",
    "\n",
    "# print images\n",
    "imshow(torchvision.utils.make_grid(images))\n",
    "print('GroundTruth: ', ' '.join('%5s' % classes[labels[j]] for j in range(4)))"
   ]
  },
  {
   "cell_type": "markdown",
   "metadata": {},
   "source": [
    "## Load a model\n",
    "Next, let's load back in our saved model (note: saving and re-loading the model\n",
    "wasn't necessary here, we only did it to illustrate how to do so):\n",
    "\n"
   ]
  },
  {
   "cell_type": "code",
   "execution_count": 12,
   "metadata": {},
   "outputs": [],
   "source": [
    "net = NeuralNet()\n",
    "\n",
    "def load_model(net, path):\n",
    "    net.load_state_dict(torch.load(PATH))\n",
    "    \n",
    "load_model(net, PATH)"
   ]
  },
  {
   "cell_type": "markdown",
   "metadata": {},
   "source": [
    "Okay, now let us see what the neural network thinks these examples above are:\n",
    "\n"
   ]
  },
  {
   "cell_type": "code",
   "execution_count": 14,
   "metadata": {},
   "outputs": [],
   "source": [
    "outputs = net(images)"
   ]
  },
  {
   "cell_type": "markdown",
   "metadata": {},
   "source": [
    "The outputs are energies for the 10 classes.\n",
    "The higher the energy for a class, the more the network\n",
    "thinks that the image is of the particular class.\n",
    "So, let's get the index of the highest energy:\n",
    "\n"
   ]
  },
  {
   "cell_type": "code",
   "execution_count": 15,
   "metadata": {},
   "outputs": [
    {
     "name": "stdout",
     "output_type": "stream",
     "text": [
      "Predicted:    cat  ship  ship  ship\n"
     ]
    }
   ],
   "source": [
    "_, predicted = torch.max(outputs, 1)\n",
    "\n",
    "print('Predicted: ', ' '.join('%5s' % classes[predicted[j]]\n",
    "                              for j in range(4)))"
   ]
  },
  {
   "cell_type": "code",
   "execution_count": 16,
   "metadata": {},
   "outputs": [
    {
     "name": "stdout",
     "output_type": "stream",
     "text": [
      "Accuracy of the network on the 10000 test images: 53 %\n"
     ]
    },
    {
     "data": {
      "text/plain": [
       "(0.5302, 1.3842206001281738)"
      ]
     },
     "execution_count": 16,
     "metadata": {},
     "output_type": "execute_result"
    }
   ],
   "source": [
    "test(net, testloader)"
   ]
  },
  {
   "cell_type": "markdown",
   "metadata": {},
   "source": [
    "## See accuracy of each class\n",
    "\n",
    "That looks way better than chance, which is 10% accuracy (randomly picking\n",
    "a class out of 10 classes).\n",
    "Seems like the network learnt something.\n",
    "\n",
    "Hmmm, what are the classes that performed well, and the classes that did\n",
    "not perform well:\n",
    "\n"
   ]
  },
  {
   "cell_type": "code",
   "execution_count": 7,
   "metadata": {},
   "outputs": [],
   "source": [
    "def class_test(net, testloader, device = 'cpu'):\n",
    "    # prepare to count predictions for each class\n",
    "    correct_pred = {classname: 0 for classname in classes}\n",
    "    total_pred = {classname: 0 for classname in classes}\n",
    "    \n",
    "    net.eval()\n",
    "\n",
    "    # (addition) add device to test\n",
    "    net = net.to(device)\n",
    "\n",
    "    # again no gradients needed\n",
    "    with torch.no_grad():\n",
    "        for data in testloader:\n",
    "            images, labels = data\n",
    "\n",
    "            # (addition) put images and labels to device\n",
    "            images, labels = images.to(device), labels.to(device)\n",
    "\n",
    "            outputs = net(images)    \n",
    "            _, predictions = torch.max(outputs, 1)\n",
    "            # collect the correct predictions for each class\n",
    "            for label, prediction in zip(labels, predictions):\n",
    "                if label == prediction:\n",
    "                    correct_pred[classes[label]] += 1\n",
    "                total_pred[classes[label]] += 1\n",
    "\n",
    "\n",
    "    # print accuracy for each class\n",
    "    for classname, correct_count in correct_pred.items():\n",
    "        acc = 100 * float(correct_count) / total_pred[classname]\n",
    "        print(\"Accuracy for class {:5s} is: {:.1f} %\".format(classname, \n",
    "                                                       acc))"
   ]
  },
  {
   "cell_type": "code",
   "execution_count": 18,
   "metadata": {},
   "outputs": [
    {
     "name": "stdout",
     "output_type": "stream",
     "text": [
      "Accuracy for class plane is: 61.4 %\n",
      "Accuracy for class car   is: 59.6 %\n",
      "Accuracy for class bird  is: 43.2 %\n",
      "Accuracy for class cat   is: 31.5 %\n",
      "Accuracy for class deer  is: 43.5 %\n",
      "Accuracy for class dog   is: 46.6 %\n",
      "Accuracy for class frog  is: 65.3 %\n",
      "Accuracy for class horse is: 57.4 %\n",
      "Accuracy for class ship  is: 72.7 %\n",
      "Accuracy for class truck is: 49.0 %\n"
     ]
    }
   ],
   "source": [
    "class_test(net, testloader)"
   ]
  },
  {
   "cell_type": "markdown",
   "metadata": {},
   "source": [
    "# Your turn now!"
   ]
  },
  {
   "cell_type": "markdown",
   "metadata": {},
   "source": [
    "## Define a Convolutional Neural Network\n",
    "\n",
    "The architecture should be:\n",
    "\n",
    "    conv2d, 5x5, 3->8, padding=2\n",
    "\n",
    "    Relu()\n",
    "\n",
    "    conv2d, 5x5, 8->16, padding=2, stride=2\n",
    "\n",
    "    Relu()\n",
    "\n",
    "    conv2d, 5x5, 16->32, padding=2\n",
    "    \n",
    "    Relu()\n",
    "\n",
    "    conv2d, 5x5, 32->64, padding=2, stride=2\n",
    "    \n",
    "    Relu()\n",
    "\n",
    "    conv2d, 5x5, 64->128, padding=2\n",
    "\n",
    "    maxpool2d\n",
    "\n",
    "    Relu()\n",
    "\n",
    "    flatten the feature map\n",
    "\n",
    "    fc, the whole feature map -> 120\n",
    "\n",
    "    Relu()\n",
    "\n",
    "    fc, 120->84\n",
    "\n",
    "    Relu()\n",
    "\n",
    "    fc, 84->10\n",
    "    "
   ]
  },
  {
   "cell_type": "code",
   "execution_count": 2,
   "metadata": {},
   "outputs": [],
   "source": [
    "import torch.nn as nn\n",
    "import torch.nn.functional as F\n",
    "\n",
    "\n",
    "class ConvolutionNet(nn.Module):\n",
    "    def __init__(self):\n",
    "        super().__init__()\n",
    "        '''\n",
    "        Implement here\n",
    "        '''\n",
    "        self.conv1 = nn.Conv2d(3, 8, 5, padding=2)\n",
    "        self.conv2 = nn.Conv2d(8, 16, 5, padding=2, stride=2)\n",
    "        self.conv3 = nn.Conv2d(16, 32, 5, padding=2)\n",
    "        self.conv4 = nn.Conv2d(32, 64, 5, padding=2, stride=2)\n",
    "        self.conv5 = nn.Conv2d(64, 128, 5, padding=2)\n",
    "        self.fc1 = nn.Linear(128*4*4, 120)\n",
    "        self.fc2 = nn.Linear(120, 84)\n",
    "        self.fc3 = nn.Linear(84, 10)\n",
    "\n",
    "    def forward(self, x):\n",
    "        '''\n",
    "        Implement here\n",
    "        '''\n",
    "        x = F.relu(self.conv1(x))\n",
    "        x = F.relu(self.conv2(x))\n",
    "        x = F.relu(self.conv3(x))\n",
    "        x = F.relu(self.conv4(x))\n",
    "        x = F.relu(self.conv5(x))\n",
    "        x = F.relu(F.max_pool2d(x, 2))\n",
    "        x = torch.flatten(x, 1)\n",
    "        x = F.relu(self.fc1(x))\n",
    "        x = F.relu(self.fc2(x))\n",
    "        x = self.fc3(x)\n",
    "        return x\n"
   ]
  },
  {
   "cell_type": "markdown",
   "metadata": {},
   "source": [
    "## Train the convolutional neural network\n",
    "\n",
    "Train this CNN with learning rate 1e-2 for 5 epochs.\n",
    "\n",
    "You should see the training loss is aroung 0.9 and accuracy is around 67%."
   ]
  },
  {
   "cell_type": "code",
   "execution_count": 20,
   "metadata": {},
   "outputs": [
    {
     "name": "stderr",
     "output_type": "stream",
     "text": [
      "Epoch 1/10: 100%|██████████| 782/782 [00:08<00:00, 87.44it/s] \n"
     ]
    },
    {
     "name": "stdout",
     "output_type": "stream",
     "text": [
      "Accuracy of the network on the 10000 test images: 32 %\n"
     ]
    },
    {
     "name": "stderr",
     "output_type": "stream",
     "text": [
      "Epoch 2/10: 100%|██████████| 782/782 [00:08<00:00, 93.64it/s] \n"
     ]
    },
    {
     "name": "stdout",
     "output_type": "stream",
     "text": [
      "Accuracy of the network on the 10000 test images: 49 %\n"
     ]
    },
    {
     "name": "stderr",
     "output_type": "stream",
     "text": [
      "Epoch 3/10: 100%|██████████| 782/782 [00:08<00:00, 93.59it/s] \n"
     ]
    },
    {
     "name": "stdout",
     "output_type": "stream",
     "text": [
      "Accuracy of the network on the 10000 test images: 56 %\n"
     ]
    },
    {
     "name": "stderr",
     "output_type": "stream",
     "text": [
      "Epoch 4/10: 100%|██████████| 782/782 [00:07<00:00, 99.49it/s] \n"
     ]
    },
    {
     "name": "stdout",
     "output_type": "stream",
     "text": [
      "Accuracy of the network on the 10000 test images: 60 %\n"
     ]
    },
    {
     "name": "stderr",
     "output_type": "stream",
     "text": [
      "Epoch 5/10: 100%|██████████| 782/782 [00:07<00:00, 101.80it/s]\n"
     ]
    },
    {
     "name": "stdout",
     "output_type": "stream",
     "text": [
      "Accuracy of the network on the 10000 test images: 62 %\n"
     ]
    },
    {
     "name": "stderr",
     "output_type": "stream",
     "text": [
      "Epoch 6/10: 100%|██████████| 782/782 [00:07<00:00, 99.67it/s] \n"
     ]
    },
    {
     "name": "stdout",
     "output_type": "stream",
     "text": [
      "Accuracy of the network on the 10000 test images: 64 %\n"
     ]
    },
    {
     "name": "stderr",
     "output_type": "stream",
     "text": [
      "Epoch 7/10: 100%|██████████| 782/782 [00:07<00:00, 102.12it/s]\n"
     ]
    },
    {
     "name": "stdout",
     "output_type": "stream",
     "text": [
      "Accuracy of the network on the 10000 test images: 66 %\n"
     ]
    },
    {
     "name": "stderr",
     "output_type": "stream",
     "text": [
      "Epoch 8/10: 100%|██████████| 782/782 [00:07<00:00, 101.28it/s]\n"
     ]
    },
    {
     "name": "stdout",
     "output_type": "stream",
     "text": [
      "Accuracy of the network on the 10000 test images: 65 %\n"
     ]
    },
    {
     "name": "stderr",
     "output_type": "stream",
     "text": [
      "Epoch 9/10: 100%|██████████| 782/782 [00:08<00:00, 93.90it/s] \n"
     ]
    },
    {
     "name": "stdout",
     "output_type": "stream",
     "text": [
      "Accuracy of the network on the 10000 test images: 65 %\n"
     ]
    },
    {
     "name": "stderr",
     "output_type": "stream",
     "text": [
      "Epoch 10/10: 100%|██████████| 782/782 [00:07<00:00, 102.58it/s]\n"
     ]
    },
    {
     "name": "stdout",
     "output_type": "stream",
     "text": [
      "Accuracy of the network on the 10000 test images: 66 %\n",
      "Finished Training\n"
     ]
    },
    {
     "data": {
      "image/png": "[encoded data removed]",
      "text/plain": [
       "<Figure size 1000x500 with 1 Axes>"
      ]
     },
     "metadata": {},
     "output_type": "display_data"
    },
    {
     "data": {
      "image/png": "[encoded data removed]",
      "text/plain": [
       "<Figure size 1000x500 with 1 Axes>"
      ]
     },
     "metadata": {},
     "output_type": "display_data"
    }
   ],
   "source": [
    "'''\n",
    "Implement here, use the train function provided.\n",
    "'''\n",
    "conv_net = ConvolutionNet()\n",
    "optimizer = get_optimizer(conv_net, 0.01)\n",
    "# train(conv_net, trainloader, optimizer, 5, device)\n",
    "\n",
    "loss_list, acc_list = train(conv_net, trainloader, optimizer, 10, device)\n",
    "\n",
    "# (addition) plt loss and acc\n",
    "plot_loss_acc(loss_list, acc_list)"
   ]
  },
  {
   "cell_type": "markdown",
   "metadata": {},
   "source": [
    "## Test the convolutional neural network\n",
    "\n",
    "Test this CNN on the test dataset.\n",
    "\n",
    "You should see the accuracy is around 62%."
   ]
  },
  {
   "cell_type": "code",
   "execution_count": 21,
   "metadata": {},
   "outputs": [
    {
     "name": "stdout",
     "output_type": "stream",
     "text": [
      "Accuracy of the network on the 10000 test images: 66 %\n"
     ]
    },
    {
     "data": {
      "text/plain": [
       "(0.6652, 1.5391286611557007)"
      ]
     },
     "execution_count": 21,
     "metadata": {},
     "output_type": "execute_result"
    }
   ],
   "source": [
    "'''\n",
    "Implemente here, use the test function provided.\n",
    "'''\n",
    "test(conv_net, testloader)"
   ]
  },
  {
   "cell_type": "markdown",
   "metadata": {},
   "source": [
    "## Accuracy (each class) of CNN\n",
    "\n",
    "Test this CNN on the test dataset to see the accuracy of each class."
   ]
  },
  {
   "cell_type": "code",
   "execution_count": 22,
   "metadata": {},
   "outputs": [
    {
     "name": "stdout",
     "output_type": "stream",
     "text": [
      "Accuracy for class plane is: 71.0 %\n",
      "Accuracy for class car   is: 81.9 %\n",
      "Accuracy for class bird  is: 52.6 %\n",
      "Accuracy for class cat   is: 51.2 %\n",
      "Accuracy for class deer  is: 62.3 %\n",
      "Accuracy for class dog   is: 46.6 %\n",
      "Accuracy for class frog  is: 69.9 %\n",
      "Accuracy for class horse is: 78.4 %\n",
      "Accuracy for class ship  is: 81.2 %\n",
      "Accuracy for class truck is: 70.1 %\n"
     ]
    }
   ],
   "source": [
    "'''\n",
    "Implemente here, use the class_test function provided.\n",
    "'''\n",
    "class_test(conv_net, testloader)"
   ]
  },
  {
   "cell_type": "markdown",
   "metadata": {},
   "source": [
    "## Let's use BN\n",
    "\n",
    "Add BatchNorm2d to the convolution neural network you implemented.\n",
    "\n",
    "You should add batchnorm after the convolution operator and before the activation layer.\n",
    "\n",
    "Please train this network and show the test accuracy."
   ]
  },
  {
   "cell_type": "code",
   "execution_count": 23,
   "metadata": {},
   "outputs": [],
   "source": [
    "import torch.nn as nn\n",
    "import torch.nn.functional as F\n",
    "\n",
    "class ConvolutionBNNet(nn.Module):\n",
    "    def __init__(self):\n",
    "        super().__init__()\n",
    "        '''\n",
    "        Implement here.\n",
    "        '''\n",
    "        self.conv1 = nn.Conv2d(3, 8, 5, padding=2)\n",
    "        self.bn2d1 = nn.BatchNorm2d(8)\n",
    "        self.conv2 = nn.Conv2d(8, 16, 5, padding=2, stride=2)\n",
    "        self.bn2d2 = nn.BatchNorm2d(16)\n",
    "        self.conv3 = nn.Conv2d(16, 32, 5, padding=2)\n",
    "        self.bn2d3 = nn.BatchNorm2d(32)\n",
    "        self.conv4 = nn.Conv2d(32, 64, 5, padding=2, stride=2)\n",
    "        self.bn2d4 = nn.BatchNorm2d(64)\n",
    "        self.conv5 = nn.Conv2d(64, 128, 5, padding=2)\n",
    "        self.bn2d5 = nn.BatchNorm2d(128)\n",
    "        self.fc1 = nn.Linear(128*4*4, 120)\n",
    "        self.fc2 = nn.Linear(120, 84)\n",
    "        self.fc3 = nn.Linear(84, 10)\n",
    "\n",
    "    def forward(self, x):\n",
    "        '''\n",
    "        Implement here\n",
    "        '''\n",
    "        x = F.relu(self.bn2d1(self.conv1(x)))\n",
    "        x = F.relu(self.bn2d2(self.conv2(x)))\n",
    "        x = F.relu(self.bn2d3(self.conv3(x)))\n",
    "        x = F.relu(self.bn2d4(self.conv4(x)))\n",
    "        x = F.relu(self.bn2d5(self.conv5(x)))\n",
    "        x = F.relu(F.max_pool2d(x, 2))\n",
    "        x = torch.flatten(x, 1)\n",
    "        x = F.relu(self.fc1(x))\n",
    "        x = F.relu(self.fc2(x))\n",
    "        x = self.fc3(x)\n",
    "\n",
    "        return x\n"
   ]
  },
  {
   "cell_type": "markdown",
   "metadata": {},
   "source": [
    "## Train the CNN with BN\n",
    "\n",
    "Train this CNN with learning rate 1e-2 for 5 epochs."
   ]
  },
  {
   "cell_type": "code",
   "execution_count": 24,
   "metadata": {},
   "outputs": [
    {
     "name": "stderr",
     "output_type": "stream",
     "text": [
      "Epoch 1/10: 100%|██████████| 782/782 [00:08<00:00, 92.84it/s] \n"
     ]
    },
    {
     "name": "stdout",
     "output_type": "stream",
     "text": [
      "Accuracy of the network on the 10000 test images: 57 %\n"
     ]
    },
    {
     "name": "stderr",
     "output_type": "stream",
     "text": [
      "Epoch 2/10: 100%|██████████| 782/782 [00:08<00:00, 96.31it/s] \n"
     ]
    },
    {
     "name": "stdout",
     "output_type": "stream",
     "text": [
      "Accuracy of the network on the 10000 test images: 66 %\n"
     ]
    },
    {
     "name": "stderr",
     "output_type": "stream",
     "text": [
      "Epoch 3/10: 100%|██████████| 782/782 [00:08<00:00, 91.19it/s] \n"
     ]
    },
    {
     "name": "stdout",
     "output_type": "stream",
     "text": [
      "Accuracy of the network on the 10000 test images: 70 %\n"
     ]
    },
    {
     "name": "stderr",
     "output_type": "stream",
     "text": [
      "Epoch 4/10: 100%|██████████| 782/782 [00:08<00:00, 95.17it/s] \n"
     ]
    },
    {
     "name": "stdout",
     "output_type": "stream",
     "text": [
      "Accuracy of the network on the 10000 test images: 73 %\n"
     ]
    },
    {
     "name": "stderr",
     "output_type": "stream",
     "text": [
      "Epoch 5/10: 100%|██████████| 782/782 [00:08<00:00, 93.56it/s] \n"
     ]
    },
    {
     "name": "stdout",
     "output_type": "stream",
     "text": [
      "Accuracy of the network on the 10000 test images: 73 %\n"
     ]
    },
    {
     "name": "stderr",
     "output_type": "stream",
     "text": [
      "Epoch 6/10: 100%|██████████| 782/782 [00:08<00:00, 87.08it/s] \n"
     ]
    },
    {
     "name": "stdout",
     "output_type": "stream",
     "text": [
      "Accuracy of the network on the 10000 test images: 75 %\n"
     ]
    },
    {
     "name": "stderr",
     "output_type": "stream",
     "text": [
      "Epoch 7/10: 100%|██████████| 782/782 [00:08<00:00, 93.19it/s] \n"
     ]
    },
    {
     "name": "stdout",
     "output_type": "stream",
     "text": [
      "Accuracy of the network on the 10000 test images: 74 %\n"
     ]
    },
    {
     "name": "stderr",
     "output_type": "stream",
     "text": [
      "Epoch 8/10: 100%|██████████| 782/782 [00:08<00:00, 95.84it/s] \n"
     ]
    },
    {
     "name": "stdout",
     "output_type": "stream",
     "text": [
      "Accuracy of the network on the 10000 test images: 75 %\n"
     ]
    },
    {
     "name": "stderr",
     "output_type": "stream",
     "text": [
      "Epoch 9/10: 100%|██████████| 782/782 [00:08<00:00, 95.60it/s] \n"
     ]
    },
    {
     "name": "stdout",
     "output_type": "stream",
     "text": [
      "Accuracy of the network on the 10000 test images: 73 %\n"
     ]
    },
    {
     "name": "stderr",
     "output_type": "stream",
     "text": [
      "Epoch 10/10: 100%|██████████| 782/782 [00:08<00:00, 93.93it/s] \n"
     ]
    },
    {
     "name": "stdout",
     "output_type": "stream",
     "text": [
      "Accuracy of the network on the 10000 test images: 76 %\n",
      "Finished Training\n"
     ]
    },
    {
     "data": {
      "image/png": "[encoded data removed]",
      "text/plain": [
       "<Figure size 1000x500 with 1 Axes>"
      ]
     },
     "metadata": {},
     "output_type": "display_data"
    },
    {
     "data": {
      "image/png": "[encoded data removed]",
      "text/plain": [
       "<Figure size 1000x500 with 1 Axes>"
      ]
     },
     "metadata": {},
     "output_type": "display_data"
    }
   ],
   "source": [
    "'''\n",
    "Implement here\n",
    "'''\n",
    "conv_bn_net = ConvolutionBNNet()\n",
    "optimizer = get_optimizer(conv_bn_net, 0.01)\n",
    "# train(conv_bn_net, trainloader, optimizer, 5, device)\n",
    "\n",
    "loss_list, acc_list = train(conv_bn_net, trainloader, optimizer, 10, device)\n",
    "\n",
    "# (addition) plt loss and acc\n",
    "plot_loss_acc(loss_list, acc_list)\n"
   ]
  },
  {
   "cell_type": "markdown",
   "metadata": {},
   "source": [
    "## Test the CNN with BN\n",
    "\n",
    "Test this CNN on the test dataset."
   ]
  },
  {
   "cell_type": "code",
   "execution_count": 25,
   "metadata": {},
   "outputs": [
    {
     "name": "stdout",
     "output_type": "stream",
     "text": [
      "Accuracy of the network on the 10000 test images: 76 %\n"
     ]
    },
    {
     "data": {
      "text/plain": [
       "(0.7646, 1.0287322998046875)"
      ]
     },
     "execution_count": 25,
     "metadata": {},
     "output_type": "execute_result"
    }
   ],
   "source": [
    "'''\n",
    "Implement here\n",
    "'''\n",
    "test(conv_bn_net, testloader)\n"
   ]
  },
  {
   "cell_type": "markdown",
   "metadata": {},
   "source": [
    "## Accuracy (each class) of CNN with BN\n",
    "\n",
    "Test this CNN with BNN on the test dataset to see the accuracy of each class."
   ]
  },
  {
   "cell_type": "code",
   "execution_count": 26,
   "metadata": {},
   "outputs": [
    {
     "name": "stdout",
     "output_type": "stream",
     "text": [
      "Accuracy for class plane is: 70.7 %\n",
      "Accuracy for class car   is: 84.9 %\n",
      "Accuracy for class bird  is: 69.4 %\n",
      "Accuracy for class cat   is: 71.6 %\n",
      "Accuracy for class deer  is: 70.7 %\n",
      "Accuracy for class dog   is: 61.2 %\n",
      "Accuracy for class frog  is: 79.9 %\n",
      "Accuracy for class horse is: 81.4 %\n",
      "Accuracy for class ship  is: 89.5 %\n",
      "Accuracy for class truck is: 85.3 %\n"
     ]
    }
   ],
   "source": [
    "'''\n",
    "Implemente here, use the class_test function provided.\n",
    "'''\n",
    "class_test(conv_bn_net, testloader)"
   ]
  },
  {
   "cell_type": "markdown",
   "metadata": {},
   "source": [
    "## Design by yourself\n",
    "Now, based on the knowledge learned in class or by referring to online resources, you can design your own network architecture or incorporate other optimization methods to improve task performance. Please provide at least one improvement strategy."
   ]
  },
  {
   "cell_type": "markdown",
   "metadata": {},
   "source": [
    "# Model"
   ]
  },
  {
   "cell_type": "code",
   "execution_count": 13,
   "metadata": {},
   "outputs": [],
   "source": [
    "class Images2ClassesNet(nn.Module):\n",
    "    def __init__(self, visual_encoder):\n",
    "        super().__init__()\n",
    "        self.visual_encoder = visual_encoder\n",
    "        for param in self.visual_encoder.parameters():\n",
    "            param.requires_grad = False\n",
    "        self.fc1 = nn.Linear(512, 128)\n",
    "        self.fc2 = nn.Linear(128, 64)\n",
    "        self.fc3 = nn.Linear(64, 10)\n",
    "\n",
    "    def forward(self, x):\n",
    "        with torch.no_grad():\n",
    "            x = self.visual_encoder(x)\n",
    "        x = F.relu(self.fc1(x))\n",
    "        x = F.relu(self.fc2(x))\n",
    "        x = self.fc3(x)\n",
    "        return x"
   ]
  },
  {
   "cell_type": "markdown",
   "metadata": {},
   "source": [
    "# Train"
   ]
  },
  {
   "cell_type": "code",
   "execution_count": 19,
   "metadata": {},
   "outputs": [
    {
     "name": "stdout",
     "output_type": "stream",
     "text": [
      "Files already downloaded and verified\n",
      "Files already downloaded and verified\n"
     ]
    },
    {
     "name": "stderr",
     "output_type": "stream",
     "text": [
      "Epoch 1/1:   0%|          | 0/782 [00:00<?, ?it/s]d:\\apps\\ANACONDA\\envs\\pytorch_env\\lib\\site-packages\\torch\\nn\\functional.py:5463: UserWarning: 1Torch was not compiled with flash attention. (Triggered internally at C:\\cb\\pytorch_1000000000000\\work\\aten\\src\\ATen\\native\\transformers\\cuda\\sdp_utils.cpp:253.)\n",
      "  attn_output = scaled_dot_product_attention(q, k, v, attn_mask, dropout_p, is_causal)\n",
      "Epoch 1/1: 100%|██████████| 782/782 [05:25<00:00,  2.40it/s]\n"
     ]
    },
    {
     "name": "stdout",
     "output_type": "stream",
     "text": [
      "Accuracy of the network on the 10000 test images: 95 %\n",
      "Finished Training\n"
     ]
    }
   ],
   "source": [
    "'''\n",
    "Implement here\n",
    "'''\n",
    "\n",
    "# model training part\n",
    "\n",
    "# clear cashe\n",
    "torch.cuda.empty_cache()\n",
    "import gc\n",
    "gc.collect()\n",
    "\n",
    "# use the Vit-16-B to do the classification\n",
    "import torch\n",
    "import torch.nn as nn\n",
    "from torchvision import transforms\n",
    "from open_clip import create_model_and_transforms\n",
    "\n",
    "model: str = 'ViT-B-16'\n",
    "pretrain_dataset: str = 'laion400m_e32'\n",
    "\n",
    "# load the model vision part\n",
    "target_model, target_preprocess_train, target_preprocess_val = create_model_and_transforms(model, pretrain_dataset)\n",
    "visual_encoder = target_model.visual\n",
    "\n",
    "# load linear model\n",
    "images_2_classes_net = Images2ClassesNet(visual_encoder)\n",
    "\n",
    "# load linear optimizer\n",
    "optimizer = get_optimizer(images_2_classes_net, 0.01)\n",
    "\n",
    "# load the dataloader and testloader\n",
    "trainloader = get_train_loader(batch_size, target_preprocess_train)\n",
    "testloader = get_test_loader(batch_size, target_preprocess_train)\n",
    "\n",
    "# finetuning the model\n",
    "# train(images_2_classes_net, trainloader, optimizer, 1, device)\n",
    "\n",
    "loss_list, acc_list = train(images_2_classes_net, trainloader, optimizer, 1, device)\n",
    "\n",
    "# (addition) plt loss and acc\n",
    "# plot_loss_acc(loss_list, acc_list)\n",
    "\n"
   ]
  },
  {
   "cell_type": "markdown",
   "metadata": {},
   "source": [
    "# Save Model"
   ]
  },
  {
   "cell_type": "code",
   "execution_count": 20,
   "metadata": {},
   "outputs": [
    {
     "name": "stdout",
     "output_type": "stream",
     "text": [
      "dict_keys(['fc1.weight', 'fc1.bias', 'fc2.weight', 'fc2.bias', 'fc3.weight', 'fc3.bias'])\n"
     ]
    }
   ],
   "source": [
    "# only 'fc1.weight', 'fc1.bias', 'fc2.weight', 'fc2.bias', 'fc3.weight', 'fc3.bias' save to  ./checkpoints\n",
    "PATH = 'ViT-B-16_laion400m_e32_finetuning_lora.pth'\n",
    "save_layers = ['fc1.weight', 'fc1.bias', 'fc2.weight', 'fc2.bias', 'fc3.weight', 'fc3.bias']\n",
    "state_dict = {k: v for k, v in images_2_classes_net.state_dict().items() if k in save_layers}\n",
    "print(state_dict.keys())\n",
    "torch.save(state_dict, PATH)"
   ]
  },
  {
   "cell_type": "markdown",
   "metadata": {},
   "source": [
    "# Load model"
   ]
  },
  {
   "cell_type": "code",
   "execution_count": 21,
   "metadata": {},
   "outputs": [
    {
     "data": {
      "text/plain": [
       "_IncompatibleKeys(missing_keys=['visual_encoder.class_embedding', 'visual_encoder.positional_embedding', 'visual_encoder.proj', 'visual_encoder.conv1.weight', 'visual_encoder.ln_pre.weight', 'visual_encoder.ln_pre.bias', 'visual_encoder.transformer.resblocks.0.ln_1.weight', 'visual_encoder.transformer.resblocks.0.ln_1.bias', 'visual_encoder.transformer.resblocks.0.attn.in_proj_weight', 'visual_encoder.transformer.resblocks.0.attn.in_proj_bias', 'visual_encoder.transformer.resblocks.0.attn.out_proj.weight', 'visual_encoder.transformer.resblocks.0.attn.out_proj.bias', 'visual_encoder.transformer.resblocks.0.ln_2.weight', 'visual_encoder.transformer.resblocks.0.ln_2.bias', 'visual_encoder.transformer.resblocks.0.mlp.c_fc.weight', 'visual_encoder.transformer.resblocks.0.mlp.c_fc.bias', 'visual_encoder.transformer.resblocks.0.mlp.c_proj.weight', 'visual_encoder.transformer.resblocks.0.mlp.c_proj.bias', 'visual_encoder.transformer.resblocks.1.ln_1.weight', 'visual_encoder.transformer.resblocks.1.ln_1.bias', 'visual_encoder.transformer.resblocks.1.attn.in_proj_weight', 'visual_encoder.transformer.resblocks.1.attn.in_proj_bias', 'visual_encoder.transformer.resblocks.1.attn.out_proj.weight', 'visual_encoder.transformer.resblocks.1.attn.out_proj.bias', 'visual_encoder.transformer.resblocks.1.ln_2.weight', 'visual_encoder.transformer.resblocks.1.ln_2.bias', 'visual_encoder.transformer.resblocks.1.mlp.c_fc.weight', 'visual_encoder.transformer.resblocks.1.mlp.c_fc.bias', 'visual_encoder.transformer.resblocks.1.mlp.c_proj.weight', 'visual_encoder.transformer.resblocks.1.mlp.c_proj.bias', 'visual_encoder.transformer.resblocks.2.ln_1.weight', 'visual_encoder.transformer.resblocks.2.ln_1.bias', 'visual_encoder.transformer.resblocks.2.attn.in_proj_weight', 'visual_encoder.transformer.resblocks.2.attn.in_proj_bias', 'visual_encoder.transformer.resblocks.2.attn.out_proj.weight', 'visual_encoder.transformer.resblocks.2.attn.out_proj.bias', 'visual_encoder.transformer.resblocks.2.ln_2.weight', 'visual_encoder.transformer.resblocks.2.ln_2.bias', 'visual_encoder.transformer.resblocks.2.mlp.c_fc.weight', 'visual_encoder.transformer.resblocks.2.mlp.c_fc.bias', 'visual_encoder.transformer.resblocks.2.mlp.c_proj.weight', 'visual_encoder.transformer.resblocks.2.mlp.c_proj.bias', 'visual_encoder.transformer.resblocks.3.ln_1.weight', 'visual_encoder.transformer.resblocks.3.ln_1.bias', 'visual_encoder.transformer.resblocks.3.attn.in_proj_weight', 'visual_encoder.transformer.resblocks.3.attn.in_proj_bias', 'visual_encoder.transformer.resblocks.3.attn.out_proj.weight', 'visual_encoder.transformer.resblocks.3.attn.out_proj.bias', 'visual_encoder.transformer.resblocks.3.ln_2.weight', 'visual_encoder.transformer.resblocks.3.ln_2.bias', 'visual_encoder.transformer.resblocks.3.mlp.c_fc.weight', 'visual_encoder.transformer.resblocks.3.mlp.c_fc.bias', 'visual_encoder.transformer.resblocks.3.mlp.c_proj.weight', 'visual_encoder.transformer.resblocks.3.mlp.c_proj.bias', 'visual_encoder.transformer.resblocks.4.ln_1.weight', 'visual_encoder.transformer.resblocks.4.ln_1.bias', 'visual_encoder.transformer.resblocks.4.attn.in_proj_weight', 'visual_encoder.transformer.resblocks.4.attn.in_proj_bias', 'visual_encoder.transformer.resblocks.4.attn.out_proj.weight', 'visual_encoder.transformer.resblocks.4.attn.out_proj.bias', 'visual_encoder.transformer.resblocks.4.ln_2.weight', 'visual_encoder.transformer.resblocks.4.ln_2.bias', 'visual_encoder.transformer.resblocks.4.mlp.c_fc.weight', 'visual_encoder.transformer.resblocks.4.mlp.c_fc.bias', 'visual_encoder.transformer.resblocks.4.mlp.c_proj.weight', 'visual_encoder.transformer.resblocks.4.mlp.c_proj.bias', 'visual_encoder.transformer.resblocks.5.ln_1.weight', 'visual_encoder.transformer.resblocks.5.ln_1.bias', 'visual_encoder.transformer.resblocks.5.attn.in_proj_weight', 'visual_encoder.transformer.resblocks.5.attn.in_proj_bias', 'visual_encoder.transformer.resblocks.5.attn.out_proj.weight', 'visual_encoder.transformer.resblocks.5.attn.out_proj.bias', 'visual_encoder.transformer.resblocks.5.ln_2.weight', 'visual_encoder.transformer.resblocks.5.ln_2.bias', 'visual_encoder.transformer.resblocks.5.mlp.c_fc.weight', 'visual_encoder.transformer.resblocks.5.mlp.c_fc.bias', 'visual_encoder.transformer.resblocks.5.mlp.c_proj.weight', 'visual_encoder.transformer.resblocks.5.mlp.c_proj.bias', 'visual_encoder.transformer.resblocks.6.ln_1.weight', 'visual_encoder.transformer.resblocks.6.ln_1.bias', 'visual_encoder.transformer.resblocks.6.attn.in_proj_weight', 'visual_encoder.transformer.resblocks.6.attn.in_proj_bias', 'visual_encoder.transformer.resblocks.6.attn.out_proj.weight', 'visual_encoder.transformer.resblocks.6.attn.out_proj.bias', 'visual_encoder.transformer.resblocks.6.ln_2.weight', 'visual_encoder.transformer.resblocks.6.ln_2.bias', 'visual_encoder.transformer.resblocks.6.mlp.c_fc.weight', 'visual_encoder.transformer.resblocks.6.mlp.c_fc.bias', 'visual_encoder.transformer.resblocks.6.mlp.c_proj.weight', 'visual_encoder.transformer.resblocks.6.mlp.c_proj.bias', 'visual_encoder.transformer.resblocks.7.ln_1.weight', 'visual_encoder.transformer.resblocks.7.ln_1.bias', 'visual_encoder.transformer.resblocks.7.attn.in_proj_weight', 'visual_encoder.transformer.resblocks.7.attn.in_proj_bias', 'visual_encoder.transformer.resblocks.7.attn.out_proj.weight', 'visual_encoder.transformer.resblocks.7.attn.out_proj.bias', 'visual_encoder.transformer.resblocks.7.ln_2.weight', 'visual_encoder.transformer.resblocks.7.ln_2.bias', 'visual_encoder.transformer.resblocks.7.mlp.c_fc.weight', 'visual_encoder.transformer.resblocks.7.mlp.c_fc.bias', 'visual_encoder.transformer.resblocks.7.mlp.c_proj.weight', 'visual_encoder.transformer.resblocks.7.mlp.c_proj.bias', 'visual_encoder.transformer.resblocks.8.ln_1.weight', 'visual_encoder.transformer.resblocks.8.ln_1.bias', 'visual_encoder.transformer.resblocks.8.attn.in_proj_weight', 'visual_encoder.transformer.resblocks.8.attn.in_proj_bias', 'visual_encoder.transformer.resblocks.8.attn.out_proj.weight', 'visual_encoder.transformer.resblocks.8.attn.out_proj.bias', 'visual_encoder.transformer.resblocks.8.ln_2.weight', 'visual_encoder.transformer.resblocks.8.ln_2.bias', 'visual_encoder.transformer.resblocks.8.mlp.c_fc.weight', 'visual_encoder.transformer.resblocks.8.mlp.c_fc.bias', 'visual_encoder.transformer.resblocks.8.mlp.c_proj.weight', 'visual_encoder.transformer.resblocks.8.mlp.c_proj.bias', 'visual_encoder.transformer.resblocks.9.ln_1.weight', 'visual_encoder.transformer.resblocks.9.ln_1.bias', 'visual_encoder.transformer.resblocks.9.attn.in_proj_weight', 'visual_encoder.transformer.resblocks.9.attn.in_proj_bias', 'visual_encoder.transformer.resblocks.9.attn.out_proj.weight', 'visual_encoder.transformer.resblocks.9.attn.out_proj.bias', 'visual_encoder.transformer.resblocks.9.ln_2.weight', 'visual_encoder.transformer.resblocks.9.ln_2.bias', 'visual_encoder.transformer.resblocks.9.mlp.c_fc.weight', 'visual_encoder.transformer.resblocks.9.mlp.c_fc.bias', 'visual_encoder.transformer.resblocks.9.mlp.c_proj.weight', 'visual_encoder.transformer.resblocks.9.mlp.c_proj.bias', 'visual_encoder.transformer.resblocks.10.ln_1.weight', 'visual_encoder.transformer.resblocks.10.ln_1.bias', 'visual_encoder.transformer.resblocks.10.attn.in_proj_weight', 'visual_encoder.transformer.resblocks.10.attn.in_proj_bias', 'visual_encoder.transformer.resblocks.10.attn.out_proj.weight', 'visual_encoder.transformer.resblocks.10.attn.out_proj.bias', 'visual_encoder.transformer.resblocks.10.ln_2.weight', 'visual_encoder.transformer.resblocks.10.ln_2.bias', 'visual_encoder.transformer.resblocks.10.mlp.c_fc.weight', 'visual_encoder.transformer.resblocks.10.mlp.c_fc.bias', 'visual_encoder.transformer.resblocks.10.mlp.c_proj.weight', 'visual_encoder.transformer.resblocks.10.mlp.c_proj.bias', 'visual_encoder.transformer.resblocks.11.ln_1.weight', 'visual_encoder.transformer.resblocks.11.ln_1.bias', 'visual_encoder.transformer.resblocks.11.attn.in_proj_weight', 'visual_encoder.transformer.resblocks.11.attn.in_proj_bias', 'visual_encoder.transformer.resblocks.11.attn.out_proj.weight', 'visual_encoder.transformer.resblocks.11.attn.out_proj.bias', 'visual_encoder.transformer.resblocks.11.ln_2.weight', 'visual_encoder.transformer.resblocks.11.ln_2.bias', 'visual_encoder.transformer.resblocks.11.mlp.c_fc.weight', 'visual_encoder.transformer.resblocks.11.mlp.c_fc.bias', 'visual_encoder.transformer.resblocks.11.mlp.c_proj.weight', 'visual_encoder.transformer.resblocks.11.mlp.c_proj.bias', 'visual_encoder.ln_post.weight', 'visual_encoder.ln_post.bias'], unexpected_keys=[])"
      ]
     },
     "execution_count": 21,
     "metadata": {},
     "output_type": "execute_result"
    }
   ],
   "source": [
    "import torch\n",
    "import torch.nn as nn\n",
    "from torchvision import transforms\n",
    "from open_clip import create_model_and_transforms\n",
    "\n",
    "model: str = 'ViT-B-16'\n",
    "pretrain_dataset: str = 'laion400m_e32'\n",
    "\n",
    "target_model, target_preprocess_train, target_preprocess_val = create_model_and_transforms(model, pretrain_dataset)\n",
    "visual_encoder = target_model.visual\n",
    "\n",
    "net = Images2ClassesNet(visual_encoder)\n",
    "\n",
    "PATH = 'ViT-B-16_laion400m_e32_finetuning_lora.pth'\n",
    "net.load_state_dict(torch.load(PATH), strict=False)\n",
    "\n"
   ]
  },
  {
   "cell_type": "markdown",
   "metadata": {},
   "source": [
    "# Test"
   ]
  },
  {
   "cell_type": "code",
   "execution_count": 22,
   "metadata": {},
   "outputs": [
    {
     "name": "stdout",
     "output_type": "stream",
     "text": [
      "Accuracy of the network on the 10000 test images: 95 %\n",
      "Accuracy for class plane is: 97.6 %\n",
      "Accuracy for class car   is: 98.2 %\n",
      "Accuracy for class bird  is: 93.8 %\n",
      "Accuracy for class cat   is: 86.7 %\n",
      "Accuracy for class deer  is: 95.0 %\n",
      "Accuracy for class dog   is: 92.5 %\n",
      "Accuracy for class frog  is: 97.0 %\n",
      "Accuracy for class horse is: 96.8 %\n",
      "Accuracy for class ship  is: 95.9 %\n",
      "Accuracy for class truck is: 97.9 %\n"
     ]
    }
   ],
   "source": [
    "# test the model recommend to test this model through gpu\n",
    "test(net, testloader, device)\n",
    "class_test(net, testloader, device)"
   ]
  },
  {
   "attachments": {},
   "cell_type": "markdown",
   "metadata": {},
   "source": [
    "## Good Job!"
   ]
  }
 ],
 "metadata": {
  "kernelspec": {
   "display_name": "Python 3 (ipykernel)",
   "language": "python",
   "name": "python3"
  },
  "language_info": {
   "codemirror_mode": {
    "name": "ipython",
    "version": 3
   },
   "file_extension": ".py",
   "mimetype": "text/x-python",
   "name": "python",
   "nbconvert_exporter": "python",
   "pygments_lexer": "ipython3",
   "version": "3.8.18"
  }
 },
 "nbformat": 4,
 "nbformat_minor": 4
}
